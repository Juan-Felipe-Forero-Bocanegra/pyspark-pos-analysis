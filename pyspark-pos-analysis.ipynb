{
 "cells": [
  {
   "cell_type": "markdown",
   "id": "552b697b-1878-40ba-aeeb-969557e0e143",
   "metadata": {},
   "source": [
    "# PySpark Part of Speech (POS) analysis\n",
    "Text taken from [Reuters](https://www.reuters.com/business/finance/banks-beware-outsiders-are-cracking-code-finance-2021-09-17/)."
   ]
  },
  {
   "cell_type": "code",
   "execution_count": 2,
   "id": "7cd1ede6-d16a-4a00-bd87-1f62a8c5f149",
   "metadata": {},
   "outputs": [],
   "source": [
    "import nltk\n",
    "from pyspark import SparkContext"
   ]
  },
  {
   "cell_type": "code",
   "execution_count": 3,
   "id": "46c21e6e-08f3-4755-b0d3-2caa83441d6c",
   "metadata": {},
   "outputs": [
    {
     "name": "stderr",
     "output_type": "stream",
     "text": [
      "[nltk_data] Downloading package punkt to /home/spark/nltk_data...\n",
      "[nltk_data]   Package punkt is already up-to-date!\n",
      "[nltk_data] Downloading package averaged_perceptron_tagger to\n",
      "[nltk_data]     /home/spark/nltk_data...\n",
      "[nltk_data]   Package averaged_perceptron_tagger is already up-to-\n",
      "[nltk_data]       date!\n"
     ]
    },
    {
     "data": {
      "text/plain": [
       "True"
      ]
     },
     "execution_count": 3,
     "metadata": {},
     "output_type": "execute_result"
    }
   ],
   "source": [
    "nltk.download(\"punkt\")\n",
    "nltk.download(\"averaged_perceptron_tagger\")"
   ]
  },
  {
   "cell_type": "code",
   "execution_count": 4,
   "id": "23067b1b-24a8-4e92-8998-04aabe98c1b7",
   "metadata": {},
   "outputs": [],
   "source": [
    "sc = SparkContext(\"spark://sparkserver:7077\", appName = \"pyspark-pos-analysis\")"
   ]
  },
  {
   "cell_type": "code",
   "execution_count": 5,
   "id": "d3867cc9-1200-454b-b808-46ff63273be8",
   "metadata": {},
   "outputs": [],
   "source": [
    "# Loading a text file\n",
    "rdd_reuters = sc.textFile(\"./data/reuters.txt\")"
   ]
  },
  {
   "cell_type": "code",
   "execution_count": null,
   "id": "dd3b164b-1a30-4802-a84a-e18fd9e3ff3b",
   "metadata": {},
   "outputs": [],
   "source": []
  },
  {
   "cell_type": "code",
   "execution_count": 121,
   "id": "556087b2-713e-457c-984a-c4eb27839453",
   "metadata": {},
   "outputs": [
    {
     "data": {
      "text/plain": [
       "[('NNS', 102),\n",
       " ('VBP', 44),\n",
       " ('CC', 46),\n",
       " ('CD', 18),\n",
       " ('PRP', 32),\n",
       " ('RB', 41),\n",
       " ('TO', 42),\n",
       " ('RP', 7),\n",
       " ('VBD', 33),\n",
       " ('VBZ', 34),\n",
       " ('WRB', 7),\n",
       " ('PRP$', 13),\n",
       " ('JJS', 3),\n",
       " ('WP', 1),\n",
       " ('FW', 1),\n",
       " ('JJR', 3),\n",
       " ('RBS', 1),\n",
       " ('NNP', 171),\n",
       " ('VBG', 27),\n",
       " ('DT', 74),\n",
       " ('NN', 209),\n",
       " ('IN', 146),\n",
       " (':', 8),\n",
       " ('MD', 17),\n",
       " ('VB', 60),\n",
       " ('JJ', 105),\n",
       " ('VBN', 25),\n",
       " ('WDT', 8),\n",
       " ('PDT', 1),\n",
       " ('RBR', 3)]"
      ]
     },
     "execution_count": 121,
     "metadata": {},
     "output_type": "execute_result"
    }
   ],
   "source": [
    "palabras_separadas = rdd_reuters.flatMap(lambda x: x.split(\" \")).collect()\n",
    "tags = nltk.pos_tag(palabras_separadas)\n",
    "a,b = [list(c) for c in zip(*tags)]\n",
    "result = POS = sc.parallelize(b)\n",
    "result.map(lambda word: (word, 1)).reduceByKey(lambda a, b: a + b).take(30)\n"
   ]
  },
  {
   "cell_type": "code",
   "execution_count": 108,
   "id": "4064a62c-9795-42f7-8fc4-d0ca10f41851",
   "metadata": {},
   "outputs": [
    {
     "name": "stdout",
     "output_type": "stream",
     "text": [
      "PythonRDD[345] at RDD at PythonRDD.scala:53\n"
     ]
    }
   ],
   "source": []
  },
  {
   "cell_type": "code",
   "execution_count": null,
   "id": "c010db1d-f71e-4a8d-992c-076d7e16b777",
   "metadata": {},
   "outputs": [],
   "source": []
  },
  {
   "cell_type": "code",
   "execution_count": null,
   "id": "fa92367c-1079-475f-8dec-733283994040",
   "metadata": {},
   "outputs": [],
   "source": []
  },
  {
   "cell_type": "code",
   "execution_count": null,
   "id": "ca224922-5dad-4f20-9d57-eb8dec11fa04",
   "metadata": {},
   "outputs": [],
   "source": []
  }
 ],
 "metadata": {
  "kernelspec": {
   "display_name": "Python 3",
   "language": "python",
   "name": "python3"
  },
  "language_info": {
   "codemirror_mode": {
    "name": "ipython",
    "version": 3
   },
   "file_extension": ".py",
   "mimetype": "text/x-python",
   "name": "python",
   "nbconvert_exporter": "python",
   "pygments_lexer": "ipython3",
   "version": "3.8.8"
  }
 },
 "nbformat": 4,
 "nbformat_minor": 5
}
